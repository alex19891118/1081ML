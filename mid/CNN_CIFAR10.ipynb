{
 "cells": [
  {
   "cell_type": "markdown",
   "metadata": {},
   "source": [
    "## 資料前置處理"
   ]
  },
  {
   "cell_type": "code",
   "execution_count": 1,
   "metadata": {},
   "outputs": [
    {
     "name": "stderr",
     "output_type": "stream",
     "text": [
      "Using TensorFlow backend.\n"
     ]
    }
   ],
   "source": [
    "from keras.datasets import cifar10\n",
    "import numpy as np\n",
    "np.random.seed(10)"
   ]
  },
  {
   "cell_type": "code",
   "execution_count": 2,
   "metadata": {},
   "outputs": [],
   "source": [
    "(x_img_train, y_label_train), \\\n",
    "(x_img_test, y_label_test) = cifar10.load_data()"
   ]
  },
  {
   "cell_type": "code",
   "execution_count": 3,
   "metadata": {},
   "outputs": [
    {
     "name": "stdout",
     "output_type": "stream",
     "text": [
      "train data: images:, (50000, 32, 32, 3) labels: (50000, 1)\n",
      "test data: images:, (10000, 32, 32, 3) labels: (10000, 1)\n"
     ]
    }
   ],
   "source": [
    "print(f\"train data: images:, {x_img_train.shape} labels: {y_label_train.shape}\")\n",
    "print(f\"test data: images:, {x_img_test.shape} labels: {y_label_test.shape}\")"
   ]
  },
  {
   "cell_type": "code",
   "execution_count": 4,
   "metadata": {},
   "outputs": [],
   "source": [
    "x_img_train_normalize = x_img_train.astype('float32') / 255.0\n",
    "x_img_test_normalize = x_img_test.astype('float32') / 255.0"
   ]
  },
  {
   "cell_type": "code",
   "execution_count": 5,
   "metadata": {},
   "outputs": [],
   "source": [
    "from keras.utils import np_utils\n",
    "y_label_train_OneHot = np_utils.to_categorical(y_label_train)\n",
    "y_label_test_OneHot = np_utils.to_categorical(y_label_test)"
   ]
  },
  {
   "cell_type": "markdown",
   "metadata": {},
   "source": [
    "## 建立模型"
   ]
  },
  {
   "cell_type": "code",
   "execution_count": 6,
   "metadata": {},
   "outputs": [],
   "source": [
    "from keras.models import Sequential\n",
    "from keras.layers import Dense, Dropout, Activation, Flatten\n",
    "from keras.layers import Conv2D, MaxPooling2D, ZeroPadding2D"
   ]
  },
  {
   "cell_type": "code",
   "execution_count": 7,
   "metadata": {},
   "outputs": [],
   "source": [
    "model = Sequential()"
   ]
  },
  {
   "cell_type": "code",
   "execution_count": 8,
   "metadata": {},
   "outputs": [],
   "source": [
    "model.add(Conv2D(filters = 32,\n",
    "                 kernel_size = (3, 3),\n",
    "                 input_shape = (32, 32, 3),\n",
    "                 activation = 'relu',\n",
    "                 padding = 'same'))"
   ]
  },
  {
   "cell_type": "code",
   "execution_count": 9,
   "metadata": {},
   "outputs": [],
   "source": [
    "model.add(Dropout(0.25))"
   ]
  },
  {
   "cell_type": "code",
   "execution_count": 10,
   "metadata": {},
   "outputs": [],
   "source": [
    "model.add(MaxPooling2D(pool_size=(2, 2)))"
   ]
  },
  {
   "cell_type": "code",
   "execution_count": 11,
   "metadata": {},
   "outputs": [],
   "source": [
    "model.add(Conv2D(filters=64,\n",
    "                 kernel_size = (3,3),\n",
    "                 activation = 'relu',\n",
    "                 padding = 'same'))"
   ]
  },
  {
   "cell_type": "code",
   "execution_count": 12,
   "metadata": {},
   "outputs": [],
   "source": [
    "model.add(Dropout(0.25))"
   ]
  },
  {
   "cell_type": "code",
   "execution_count": 13,
   "metadata": {},
   "outputs": [],
   "source": [
    "model.add(MaxPooling2D(pool_size = (2, 2)))"
   ]
  },
  {
   "cell_type": "code",
   "execution_count": 14,
   "metadata": {},
   "outputs": [],
   "source": [
    "model.add(Flatten())\n",
    "model.add(Dropout(0.25))"
   ]
  },
  {
   "cell_type": "code",
   "execution_count": 15,
   "metadata": {},
   "outputs": [],
   "source": [
    "model.add(Dense(1024, activation = 'relu'))\n",
    "model.add(Dropout(rate = 0.25))"
   ]
  },
  {
   "cell_type": "code",
   "execution_count": 16,
   "metadata": {},
   "outputs": [],
   "source": [
    "model.add(Dense(10, activation = 'softmax'))"
   ]
  },
  {
   "cell_type": "code",
   "execution_count": 17,
   "metadata": {},
   "outputs": [
    {
     "name": "stdout",
     "output_type": "stream",
     "text": [
      "Model: \"sequential_1\"\n",
      "_________________________________________________________________\n",
      "Layer (type)                 Output Shape              Param #   \n",
      "=================================================================\n",
      "conv2d_1 (Conv2D)            (None, 32, 32, 32)        896       \n",
      "_________________________________________________________________\n",
      "dropout_1 (Dropout)          (None, 32, 32, 32)        0         \n",
      "_________________________________________________________________\n",
      "max_pooling2d_1 (MaxPooling2 (None, 16, 16, 32)        0         \n",
      "_________________________________________________________________\n",
      "conv2d_2 (Conv2D)            (None, 16, 16, 64)        18496     \n",
      "_________________________________________________________________\n",
      "dropout_2 (Dropout)          (None, 16, 16, 64)        0         \n",
      "_________________________________________________________________\n",
      "max_pooling2d_2 (MaxPooling2 (None, 8, 8, 64)          0         \n",
      "_________________________________________________________________\n",
      "flatten_1 (Flatten)          (None, 4096)              0         \n",
      "_________________________________________________________________\n",
      "dropout_3 (Dropout)          (None, 4096)              0         \n",
      "_________________________________________________________________\n",
      "dense_1 (Dense)              (None, 1024)              4195328   \n",
      "_________________________________________________________________\n",
      "dropout_4 (Dropout)          (None, 1024)              0         \n",
      "_________________________________________________________________\n",
      "dense_2 (Dense)              (None, 10)                10250     \n",
      "=================================================================\n",
      "Total params: 4,224,970\n",
      "Trainable params: 4,224,970\n",
      "Non-trainable params: 0\n",
      "_________________________________________________________________\n",
      "None\n"
     ]
    }
   ],
   "source": [
    "print(model.summary())"
   ]
  },
  {
   "cell_type": "code",
   "execution_count": 18,
   "metadata": {},
   "outputs": [],
   "source": [
    "model.compile(loss = 'categorical_crossentropy',\n",
    "              optimizer = 'adam',\n",
    "              metrics = ['accuracy'])"
   ]
  },
  {
   "cell_type": "code",
   "execution_count": 19,
   "metadata": {},
   "outputs": [
    {
     "name": "stdout",
     "output_type": "stream",
     "text": [
      "Train on 40000 samples, validate on 10000 samples\n",
      "Epoch 1/5\n",
      " - 46s - loss: 1.5193 - accuracy: 0.4502 - val_loss: 1.3066 - val_accuracy: 0.5738\n",
      "Epoch 2/5\n",
      " - 46s - loss: 1.1593 - accuracy: 0.5871 - val_loss: 1.1400 - val_accuracy: 0.6349\n",
      "Epoch 3/5\n",
      " - 46s - loss: 1.0046 - accuracy: 0.6464 - val_loss: 1.0474 - val_accuracy: 0.6547\n",
      "Epoch 4/5\n",
      " - 45s - loss: 0.8985 - accuracy: 0.6842 - val_loss: 0.9500 - val_accuracy: 0.6916\n",
      "Epoch 5/5\n",
      " - 46s - loss: 0.8134 - accuracy: 0.7119 - val_loss: 0.8997 - val_accuracy: 0.7038\n"
     ]
    }
   ],
   "source": [
    "train_history = model.fit(x_img_train_normalize,\n",
    "                          y_label_train_OneHot,\n",
    "                          validation_split = 0.2, \n",
    "                          epochs = 5,\n",
    "                          batch_size = 128,\n",
    "                          verbose = 2)"
   ]
  },
  {
   "cell_type": "code",
   "execution_count": 20,
   "metadata": {},
   "outputs": [],
   "source": [
    "import matplotlib.pyplot as plt\n",
    "def show_train_history(train_history,\n",
    "                       train,\n",
    "                       validation):\n",
    "    plt.plot(train_history.history[train])\n",
    "    plt.plot(train_history.history[validation])\n",
    "    plt.title('Train History')\n",
    "    plt.ylabel(train)\n",
    "    plt.xlabel('Epoch')\n",
    "    plt.legend(['train', 'validation'], loc='upper left')\n",
    "    plt.show()"
   ]
  },
  {
   "cell_type": "code",
   "execution_count": 21,
   "metadata": {
    "scrolled": true
   },
   "outputs": [
    {
     "data": {
      "image/png": "[encoded data removed]",
      "text/plain": [
       "<Figure size 432x288 with 1 Axes>"
      ]
     },
     "metadata": {
      "needs_background": "light"
     },
     "output_type": "display_data"
    }
   ],
   "source": [
    "show_train_history(train_history, 'accuracy', 'val_accuracy')"
   ]
  },
  {
   "cell_type": "code",
   "execution_count": 22,
   "metadata": {},
   "outputs": [
    {
     "data": {
      "image/png": "[encoded data removed]",
      "text/plain": [
       "<Figure size 432x288 with 1 Axes>"
      ]
     },
     "metadata": {
      "needs_background": "light"
     },
     "output_type": "display_data"
    }
   ],
   "source": [
    "show_train_history(train_history, 'loss', 'val_loss')"
   ]
  },
  {
   "cell_type": "code",
   "execution_count": 23,
   "metadata": {},
   "outputs": [
    {
     "data": {
      "text/plain": [
       "0.7020000219345093"
      ]
     },
     "execution_count": 23,
     "metadata": {},
     "output_type": "execute_result"
    }
   ],
   "source": [
    "scores = model.evaluate(x_img_test_normalize,\n",
    "                        y_label_test_OneHot,\n",
    "                        verbose = 0)\n",
    "scores[1]"
   ]
  },
  {
   "cell_type": "code",
   "execution_count": 24,
   "metadata": {},
   "outputs": [],
   "source": [
    "prediction = model.predict_classes(x_img_test_normalize)"
   ]
  },
  {
   "cell_type": "code",
   "execution_count": 25,
   "metadata": {},
   "outputs": [
    {
     "data": {
      "text/plain": [
       "array([3, 8, 8, 8, 6, 6, 1, 4, 3, 1], dtype=int64)"
      ]
     },
     "execution_count": 25,
     "metadata": {},
     "output_type": "execute_result"
    }
   ],
   "source": [
    "prediction[:10]"
   ]
  },
  {
   "cell_type": "code",
   "execution_count": 26,
   "metadata": {},
   "outputs": [],
   "source": [
    "def plot_images_labels_prediction(images, \n",
    "                                  labels,\n",
    "                                  prediction,\n",
    "                                  idx,\n",
    "                                  num = 10):\n",
    "    fig = plt.gcf()\n",
    "    fig.set_size_inches(12, 14)\n",
    "    if num > 25: \n",
    "        num = 25\n",
    "    for i in range(0, num):\n",
    "        ax = plt.subplot(5, 5, i+1)\n",
    "        ax.imshow(images[idx], cmap = 'binary')\n",
    "        title = f\"label = {labels[idx]}\"\n",
    "        if len(prediction) > 0:\n",
    "            title += f\", predict = {prediction[idx]}\"\n",
    "            \n",
    "        ax.set_title(title, fontsize = 12)\n",
    "        ax.set_xticks([]); ax.set_yticks([])\n",
    "        idx += 1\n",
    "    plt.show()"
   ]
  },
  {
   "cell_type": "code",
   "execution_count": 32,
   "metadata": {},
   "outputs": [
    {
     "data": {
      "image/png": "[encoded data removed]",
      "text/plain": [
       "<Figure size 864x1008 with 20 Axes>"
      ]
     },
     "metadata": {},
     "output_type": "display_data"
    }
   ],
   "source": [
    "plot_images_labels_prediction(x_img_test, \n",
    "                              y_label_test,\n",
    "                              prediction,\n",
    "                              0,\n",
    "                              20)"
   ]
  },
  {
   "cell_type": "code",
   "execution_count": 28,
   "metadata": {},
   "outputs": [],
   "source": [
    "Predicted_Probability = model.predict(x_img_test_normalize)"
   ]
  },
  {
   "cell_type": "code",
   "execution_count": 29,
   "metadata": {},
   "outputs": [],
   "source": [
    "def show_Predicted_Probability(y,\n",
    "                               prediction,\n",
    "                               x_img,\n",
    "                               Predicted_Probability,\n",
    "                               i):\n",
    "    print(f'label: {label_dict[y[i][0]]} predict {label_dict[prediction[i]]}')\n",
    "    plt.figure(figsize = (2, 2))\n",
    "    plt.imshow(np.reshape(x_img_test[i], (32, 32, 3)))\n",
    "    plt.show()\n",
    "    for j in range(10):\n",
    "        print(f\"{label_dict[j]} Probability:{Predicted_Probability[i][j]:1.9f}\")"
   ]
  },
  {
   "cell_type": "code",
   "execution_count": 30,
   "metadata": {},
   "outputs": [],
   "source": [
    "label_dict = {0: \"airplane\", \n",
    "              1: \"automobile\", \n",
    "              2: \"bird\", \n",
    "              3: \"cat\", \n",
    "              4: \"deer\",\n",
    "              5: \"dog\",\n",
    "              6: \"frog\",\n",
    "              7: \"horse\",\n",
    "              8: \"ship\",\n",
    "              9: \"truck\",\n",
    "             }"
   ]
  },
  {
   "cell_type": "code",
   "execution_count": 33,
   "metadata": {},
   "outputs": [
    {
     "name": "stdout",
     "output_type": "stream",
     "text": [
      "label: horse predict horse\n"
     ]
    },
    {
     "data": {
      "image/png": "[encoded data removed]",
      "text/plain": [
       "<Figure size 144x144 with 1 Axes>"
      ]
     },
     "metadata": {
      "needs_background": "light"
     },
     "output_type": "display_data"
    },
    {
     "name": "stdout",
     "output_type": "stream",
     "text": [
      "airplane Probability:0.004954158\n",
      "automobile Probability:0.001405559\n",
      "bird Probability:0.031142183\n",
      "cat Probability:0.020729652\n",
      "deer Probability:0.040107049\n",
      "dog Probability:0.107741214\n",
      "frog Probability:0.024885686\n",
      "horse Probability:0.763441443\n",
      "ship Probability:0.001550797\n",
      "truck Probability:0.004042366\n"
     ]
    }
   ],
   "source": [
    "show_Predicted_Probability(y_label_test,\n",
    "                           prediction,\n",
    "                           x_img_test,\n",
    "                           Predicted_Probability,\n",
    "                           13)"
   ]
  },
  {
   "cell_type": "code",
   "execution_count": 98,
   "metadata": {},
   "outputs": [
    {
     "name": "stdout",
     "output_type": "stream",
     "text": [
      "label: airplane predict airplane\n"
     ]
    },
    {
     "data": {
      "image/png": "[encoded data removed]",
      "text/plain": [
       "<Figure size 144x144 with 1 Axes>"
      ]
     },
     "metadata": {
      "needs_background": "light"
     },
     "output_type": "display_data"
    },
    {
     "name": "stdout",
     "output_type": "stream",
     "text": [
      "airplane Probability:0.908318639\n",
      "automobile Probability:0.020692920\n",
      "bird Probability:0.007566276\n",
      "cat Probability:0.000955154\n",
      "deer Probability:0.000475746\n",
      "dog Probability:0.000000201\n",
      "frog Probability:0.000002843\n",
      "horse Probability:0.000017823\n",
      "ship Probability:0.061787192\n",
      "truck Probability:0.000183063\n"
     ]
    }
   ],
   "source": [
    "show_Predicted_Probability(y_label_test,\n",
    "                           prediction,\n",
    "                           x_img_test,\n",
    "                           Predicted_Probability,\n",
    "                           3)"
   ]
  },
  {
   "cell_type": "code",
   "execution_count": 99,
   "metadata": {},
   "outputs": [
    {
     "data": {
      "text/plain": [
       "(10000,)"
      ]
     },
     "execution_count": 99,
     "metadata": {},
     "output_type": "execute_result"
    }
   ],
   "source": [
    "prediction.shape"
   ]
  },
  {
   "cell_type": "code",
   "execution_count": 100,
   "metadata": {},
   "outputs": [
    {
     "data": {
      "text/plain": [
       "(10000, 1)"
      ]
     },
     "execution_count": 100,
     "metadata": {},
     "output_type": "execute_result"
    }
   ],
   "source": [
    "y_label_test.shape"
   ]
  },
  {
   "cell_type": "code",
   "execution_count": 101,
   "metadata": {},
   "outputs": [
    {
     "data": {
      "text/plain": [
       "array([3, 8, 8, ..., 5, 1, 7])"
      ]
     },
     "execution_count": 101,
     "metadata": {},
     "output_type": "execute_result"
    }
   ],
   "source": [
    "y_label_test.reshape(-1)"
   ]
  },
  {
   "cell_type": "code",
   "execution_count": 102,
   "metadata": {},
   "outputs": [
    {
     "name": "stdout",
     "output_type": "stream",
     "text": [
      "{0: 'airplane', 1: 'automobile', 2: 'bird', 3: 'cat', 4: 'deer', 5: 'dog', 6: 'frog', 7: 'horse', 8: 'ship', 9: 'truck'}\n"
     ]
    },
    {
     "data": {
      "text/html": [
       "<div>\n",
       "<style scoped>\n",
       "    .dataframe tbody tr th:only-of-type {\n",
       "        vertical-align: middle;\n",
       "    }\n",
       "\n",
       "    .dataframe tbody tr th {\n",
       "        vertical-align: top;\n",
       "    }\n",
       "\n",
       "    .dataframe thead th {\n",
       "        text-align: right;\n",
       "    }\n",
       "</style>\n",
       "<table border=\"1\" class=\"dataframe\">\n",
       "  <thead>\n",
       "    <tr style=\"text-align: right;\">\n",
       "      <th>predict</th>\n",
       "      <th>0</th>\n",
       "      <th>1</th>\n",
       "      <th>2</th>\n",
       "      <th>3</th>\n",
       "      <th>4</th>\n",
       "      <th>5</th>\n",
       "      <th>6</th>\n",
       "      <th>7</th>\n",
       "      <th>8</th>\n",
       "      <th>9</th>\n",
       "    </tr>\n",
       "    <tr>\n",
       "      <th>label</th>\n",
       "      <th></th>\n",
       "      <th></th>\n",
       "      <th></th>\n",
       "      <th></th>\n",
       "      <th></th>\n",
       "      <th></th>\n",
       "      <th></th>\n",
       "      <th></th>\n",
       "      <th></th>\n",
       "      <th></th>\n",
       "    </tr>\n",
       "  </thead>\n",
       "  <tbody>\n",
       "    <tr>\n",
       "      <th>0</th>\n",
       "      <td>796</td>\n",
       "      <td>22</td>\n",
       "      <td>34</td>\n",
       "      <td>15</td>\n",
       "      <td>15</td>\n",
       "      <td>9</td>\n",
       "      <td>9</td>\n",
       "      <td>8</td>\n",
       "      <td>58</td>\n",
       "      <td>34</td>\n",
       "    </tr>\n",
       "    <tr>\n",
       "      <th>1</th>\n",
       "      <td>15</td>\n",
       "      <td>868</td>\n",
       "      <td>4</td>\n",
       "      <td>6</td>\n",
       "      <td>1</td>\n",
       "      <td>3</td>\n",
       "      <td>5</td>\n",
       "      <td>1</td>\n",
       "      <td>21</td>\n",
       "      <td>76</td>\n",
       "    </tr>\n",
       "    <tr>\n",
       "      <th>2</th>\n",
       "      <td>63</td>\n",
       "      <td>6</td>\n",
       "      <td>617</td>\n",
       "      <td>69</td>\n",
       "      <td>78</td>\n",
       "      <td>51</td>\n",
       "      <td>60</td>\n",
       "      <td>35</td>\n",
       "      <td>15</td>\n",
       "      <td>6</td>\n",
       "    </tr>\n",
       "    <tr>\n",
       "      <th>3</th>\n",
       "      <td>19</td>\n",
       "      <td>14</td>\n",
       "      <td>70</td>\n",
       "      <td>544</td>\n",
       "      <td>60</td>\n",
       "      <td>156</td>\n",
       "      <td>82</td>\n",
       "      <td>28</td>\n",
       "      <td>7</td>\n",
       "      <td>20</td>\n",
       "    </tr>\n",
       "    <tr>\n",
       "      <th>4</th>\n",
       "      <td>19</td>\n",
       "      <td>3</td>\n",
       "      <td>62</td>\n",
       "      <td>74</td>\n",
       "      <td>661</td>\n",
       "      <td>41</td>\n",
       "      <td>65</td>\n",
       "      <td>60</td>\n",
       "      <td>9</td>\n",
       "      <td>6</td>\n",
       "    </tr>\n",
       "    <tr>\n",
       "      <th>5</th>\n",
       "      <td>14</td>\n",
       "      <td>5</td>\n",
       "      <td>39</td>\n",
       "      <td>176</td>\n",
       "      <td>37</td>\n",
       "      <td>634</td>\n",
       "      <td>37</td>\n",
       "      <td>42</td>\n",
       "      <td>11</td>\n",
       "      <td>5</td>\n",
       "    </tr>\n",
       "    <tr>\n",
       "      <th>6</th>\n",
       "      <td>5</td>\n",
       "      <td>7</td>\n",
       "      <td>31</td>\n",
       "      <td>49</td>\n",
       "      <td>21</td>\n",
       "      <td>22</td>\n",
       "      <td>847</td>\n",
       "      <td>7</td>\n",
       "      <td>8</td>\n",
       "      <td>3</td>\n",
       "    </tr>\n",
       "    <tr>\n",
       "      <th>7</th>\n",
       "      <td>19</td>\n",
       "      <td>4</td>\n",
       "      <td>16</td>\n",
       "      <td>37</td>\n",
       "      <td>47</td>\n",
       "      <td>54</td>\n",
       "      <td>10</td>\n",
       "      <td>797</td>\n",
       "      <td>3</td>\n",
       "      <td>13</td>\n",
       "    </tr>\n",
       "    <tr>\n",
       "      <th>8</th>\n",
       "      <td>47</td>\n",
       "      <td>29</td>\n",
       "      <td>11</td>\n",
       "      <td>7</td>\n",
       "      <td>9</td>\n",
       "      <td>7</td>\n",
       "      <td>5</td>\n",
       "      <td>5</td>\n",
       "      <td>855</td>\n",
       "      <td>25</td>\n",
       "    </tr>\n",
       "    <tr>\n",
       "      <th>9</th>\n",
       "      <td>25</td>\n",
       "      <td>86</td>\n",
       "      <td>7</td>\n",
       "      <td>12</td>\n",
       "      <td>3</td>\n",
       "      <td>6</td>\n",
       "      <td>5</td>\n",
       "      <td>11</td>\n",
       "      <td>23</td>\n",
       "      <td>822</td>\n",
       "    </tr>\n",
       "  </tbody>\n",
       "</table>\n",
       "</div>"
      ],
      "text/plain": [
       "predict    0    1    2    3    4    5    6    7    8    9\n",
       "label                                                    \n",
       "0        796   22   34   15   15    9    9    8   58   34\n",
       "1         15  868    4    6    1    3    5    1   21   76\n",
       "2         63    6  617   69   78   51   60   35   15    6\n",
       "3         19   14   70  544   60  156   82   28    7   20\n",
       "4         19    3   62   74  661   41   65   60    9    6\n",
       "5         14    5   39  176   37  634   37   42   11    5\n",
       "6          5    7   31   49   21   22  847    7    8    3\n",
       "7         19    4   16   37   47   54   10  797    3   13\n",
       "8         47   29   11    7    9    7    5    5  855   25\n",
       "9         25   86    7   12    3    6    5   11   23  822"
      ]
     },
     "execution_count": 102,
     "metadata": {},
     "output_type": "execute_result"
    }
   ],
   "source": [
    "import pandas as pd\n",
    "print(label_dict)\n",
    "pd.crosstab(y_label_test.reshape(-1),\n",
    "            prediction,\n",
    "            rownames = ['label'],\n",
    "            colnames = ['predict'])"
   ]
  },
  {
   "cell_type": "code",
   "execution_count": 103,
   "metadata": {},
   "outputs": [],
   "source": [
    "model = Sequential()"
   ]
  },
  {
   "cell_type": "code",
   "execution_count": 104,
   "metadata": {},
   "outputs": [],
   "source": [
    "model.add(Conv2D(filters = 32,\n",
    "                 kernel_size = (3,3),\n",
    "                 input_shape = (32, 32, 3),\n",
    "                 activation = 'relu',\n",
    "                 padding = 'same'))\n",
    "model.add(Dropout(0.3))\n",
    "model.add(Conv2D(filters = 32,\n",
    "                 kernel_size = (3,3),\n",
    "                 activation = 'relu',\n",
    "                 padding = 'same'))\n",
    "model.add(MaxPooling2D(pool_size = (2, 2)))"
   ]
  },
  {
   "cell_type": "code",
   "execution_count": 105,
   "metadata": {},
   "outputs": [],
   "source": [
    "model.add(Conv2D(filters = 64,\n",
    "                 kernel_size = (3,3),\n",
    "                 activation = 'relu',\n",
    "                 padding = 'same'))\n",
    "model.add(Dropout(0.3))\n",
    "model.add(Conv2D(filters = 64,\n",
    "                 kernel_size = (3,3),\n",
    "                 activation = 'relu',\n",
    "                 padding = 'same'))\n",
    "model.add(MaxPooling2D(pool_size = (2, 2)))"
   ]
  },
  {
   "cell_type": "code",
   "execution_count": 106,
   "metadata": {},
   "outputs": [],
   "source": [
    "model.add(Conv2D(filters = 128,\n",
    "                 kernel_size = (3,3),\n",
    "                 activation = 'relu',\n",
    "                 padding = 'same'))\n",
    "model.add(Dropout(0.3))\n",
    "model.add(Conv2D(filters = 128,\n",
    "                 kernel_size = (3,3),\n",
    "                 activation = 'relu',\n",
    "                 padding = 'same'))\n",
    "model.add(MaxPooling2D(pool_size = (2, 2)))"
   ]
  },
  {
   "cell_type": "code",
   "execution_count": 107,
   "metadata": {},
   "outputs": [],
   "source": [
    "model.add(Flatten())\n",
    "model.add(Dropout(0.3))\n",
    "model.add(Dense(2500, activation = 'relu'))\n",
    "model.add(Dropout(0.3))\n",
    "model.add(Dense(2500, activation = 'relu'))\n",
    "model.add(Dropout(0.3))\n",
    "model.add(Dense(10, activation = 'softmax'))"
   ]
  },
  {
   "cell_type": "code",
   "execution_count": 108,
   "metadata": {},
   "outputs": [],
   "source": [
    "model.compile(loss = 'categorical_crossentropy',\n",
    "              optimizer = 'adam',\n",
    "              metrics = ['accuracy'])"
   ]
  },
  {
   "cell_type": "code",
   "execution_count": 46,
   "metadata": {},
   "outputs": [
    {
     "name": "stdout",
     "output_type": "stream",
     "text": [
      "Loading Model is success, Keep training Model\n",
      "Train on 40000 samples, validate on 10000 samples\n",
      "Epoch 1/5\n",
      "40000/40000 [==============================] - 104s 3ms/step - loss: 0.4735 - accuracy: 0.8287 - val_loss: 0.6798 - val_accuracy: 0.7728\n",
      "Epoch 2/5\n",
      "40000/40000 [==============================] - 105s 3ms/step - loss: 0.4384 - accuracy: 0.8443 - val_loss: 0.6482 - val_accuracy: 0.7815\n",
      "Epoch 3/5\n",
      "40000/40000 [==============================] - 104s 3ms/step - loss: 0.3965 - accuracy: 0.8559 - val_loss: 0.7065 - val_accuracy: 0.7773\n",
      "Epoch 4/5\n",
      "40000/40000 [==============================] - 105s 3ms/step - loss: 0.3725 - accuracy: 0.8662 - val_loss: 0.7022 - val_accuracy: 0.7749\n",
      "Epoch 5/5\n",
      "40000/40000 [==============================] - 105s 3ms/step - loss: 0.3443 - accuracy: 0.8748 - val_loss: 0.6879 - val_accuracy: 0.7752\n",
      "Save model to disk\n",
      "Loading Model is success, Keep training Model\n",
      "Train on 40000 samples, validate on 10000 samples\n",
      "Epoch 1/5\n",
      "40000/40000 [==============================] - 105s 3ms/step - loss: 0.3192 - accuracy: 0.8844 - val_loss: 0.7521 - val_accuracy: 0.7706\n",
      "Epoch 2/5\n",
      "40000/40000 [==============================] - 105s 3ms/step - loss: 0.3102 - accuracy: 0.8902 - val_loss: 0.7089 - val_accuracy: 0.7838\n",
      "Epoch 3/5\n",
      "40000/40000 [==============================] - 104s 3ms/step - loss: 0.2841 - accuracy: 0.8988 - val_loss: 0.7820 - val_accuracy: 0.7688\n",
      "Epoch 4/5\n",
      "40000/40000 [==============================] - 105s 3ms/step - loss: 0.2590 - accuracy: 0.9064 - val_loss: 0.7920 - val_accuracy: 0.7729\n",
      "Epoch 5/5\n",
      "40000/40000 [==============================] - 105s 3ms/step - loss: 0.2526 - accuracy: 0.9090 - val_loss: 0.7652 - val_accuracy: 0.7736\n",
      "Save model to disk\n",
      "Loading Model is success, Keep training Model\n",
      "Train on 40000 samples, validate on 10000 samples\n",
      "Epoch 1/5\n",
      "40000/40000 [==============================] - 104s 3ms/step - loss: 0.2141 - accuracy: 0.9229 - val_loss: 0.7800 - val_accuracy: 0.7816\n",
      "Epoch 2/5\n",
      "40000/40000 [==============================] - 104s 3ms/step - loss: 0.2185 - accuracy: 0.9227 - val_loss: 0.8035 - val_accuracy: 0.7822\n",
      "Epoch 3/5\n",
      "40000/40000 [==============================] - 104s 3ms/step - loss: 0.1921 - accuracy: 0.9308 - val_loss: 0.7950 - val_accuracy: 0.7844\n",
      "Epoch 4/5\n",
      "40000/40000 [==============================] - 104s 3ms/step - loss: 0.1789 - accuracy: 0.9373 - val_loss: 0.9185 - val_accuracy: 0.7763\n",
      "Epoch 5/5\n",
      "40000/40000 [==============================] - 104s 3ms/step - loss: 0.2021 - accuracy: 0.9294 - val_loss: 0.7798 - val_accuracy: 0.7816\n",
      "Save model to disk\n",
      "Loading Model is success, Keep training Model\n",
      "Train on 40000 samples, validate on 10000 samples\n",
      "Epoch 1/5\n",
      "40000/40000 [==============================] - 104s 3ms/step - loss: 0.2886 - accuracy: 0.8995 - val_loss: 0.7281 - val_accuracy: 0.7761\n",
      "Epoch 2/5\n",
      "40000/40000 [==============================] - 104s 3ms/step - loss: 0.2660 - accuracy: 0.9064 - val_loss: 0.7137 - val_accuracy: 0.7830\n",
      "Epoch 3/5\n",
      "40000/40000 [==============================] - 105s 3ms/step - loss: 0.2527 - accuracy: 0.9112 - val_loss: 0.7805 - val_accuracy: 0.7726\n",
      "Epoch 4/5\n",
      "40000/40000 [==============================] - 104s 3ms/step - loss: 0.2435 - accuracy: 0.9151 - val_loss: 0.7098 - val_accuracy: 0.7911\n",
      "Epoch 5/5\n",
      "40000/40000 [==============================] - 104s 3ms/step - loss: 0.2332 - accuracy: 0.9171 - val_loss: 0.6943 - val_accuracy: 0.7894\n",
      "Save model to disk\n",
      "Loading Model is success, Keep training Model\n",
      "Train on 40000 samples, validate on 10000 samples\n",
      "Epoch 1/5\n",
      "40000/40000 [==============================] - 104s 3ms/step - loss: 0.2250 - accuracy: 0.9206 - val_loss: 0.7547 - val_accuracy: 0.7813\n",
      "Epoch 2/5\n",
      "40000/40000 [==============================] - 104s 3ms/step - loss: 0.2166 - accuracy: 0.9228 - val_loss: 0.7589 - val_accuracy: 0.7824\n",
      "Epoch 3/5\n",
      "40000/40000 [==============================] - 104s 3ms/step - loss: 0.2142 - accuracy: 0.9263 - val_loss: 0.7624 - val_accuracy: 0.7881\n",
      "Epoch 4/5\n",
      "40000/40000 [==============================] - 104s 3ms/step - loss: 0.2040 - accuracy: 0.9283 - val_loss: 0.7324 - val_accuracy: 0.7940\n",
      "Epoch 5/5\n",
      "40000/40000 [==============================] - 104s 3ms/step - loss: 0.1994 - accuracy: 0.9320 - val_loss: 0.7145 - val_accuracy: 0.7937\n",
      "Save model to disk\n",
      "Loading Model is success, Keep training Model\n",
      "Train on 40000 samples, validate on 10000 samples\n",
      "Epoch 1/5\n",
      "40000/40000 [==============================] - 105s 3ms/step - loss: 0.1914 - accuracy: 0.9323 - val_loss: 0.7486 - val_accuracy: 0.7910\n",
      "Epoch 2/5\n",
      "40000/40000 [==============================] - 105s 3ms/step - loss: 0.1850 - accuracy: 0.9352 - val_loss: 0.7600 - val_accuracy: 0.7886\n",
      "Epoch 3/5\n",
      "40000/40000 [==============================] - 104s 3ms/step - loss: 0.1762 - accuracy: 0.9383 - val_loss: 0.7898 - val_accuracy: 0.7834\n",
      "Epoch 4/5\n",
      "40000/40000 [==============================] - 104s 3ms/step - loss: 0.1868 - accuracy: 0.9342 - val_loss: 0.7665 - val_accuracy: 0.7888\n",
      "Epoch 5/5\n",
      "40000/40000 [==============================] - 104s 3ms/step - loss: 0.1793 - accuracy: 0.9379 - val_loss: 0.7771 - val_accuracy: 0.7944\n",
      "Save model to disk\n",
      "Loading Model is success, Keep training Model\n",
      "Train on 40000 samples, validate on 10000 samples\n",
      "Epoch 1/5\n",
      "40000/40000 [==============================] - 104s 3ms/step - loss: 0.1672 - accuracy: 0.9423 - val_loss: 0.7347 - val_accuracy: 0.7945\n",
      "Epoch 2/5\n",
      "40000/40000 [==============================] - 104s 3ms/step - loss: 0.1650 - accuracy: 0.9434 - val_loss: 0.7675 - val_accuracy: 0.7887\n",
      "Epoch 3/5\n",
      "40000/40000 [==============================] - 104s 3ms/step - loss: 0.1786 - accuracy: 0.9396 - val_loss: 0.7541 - val_accuracy: 0.7908\n",
      "Epoch 4/5\n",
      "40000/40000 [==============================] - 104s 3ms/step - loss: 0.1658 - accuracy: 0.9426 - val_loss: 0.8121 - val_accuracy: 0.7864\n",
      "Epoch 5/5\n",
      "40000/40000 [==============================] - 104s 3ms/step - loss: 0.1596 - accuracy: 0.9453 - val_loss: 0.7613 - val_accuracy: 0.7893\n",
      "Save model to disk\n",
      "Loading Model is success, Keep training Model\n",
      "Train on 40000 samples, validate on 10000 samples\n",
      "Epoch 1/5\n",
      "40000/40000 [==============================] - 104s 3ms/step - loss: 0.1563 - accuracy: 0.9455 - val_loss: 0.7586 - val_accuracy: 0.7903\n",
      "Epoch 2/5\n",
      "40000/40000 [==============================] - 104s 3ms/step - loss: 0.1532 - accuracy: 0.9474 - val_loss: 0.7578 - val_accuracy: 0.7986\n",
      "Epoch 3/5\n",
      "40000/40000 [==============================] - 104s 3ms/step - loss: 0.1605 - accuracy: 0.9449 - val_loss: 0.7641 - val_accuracy: 0.7925\n",
      "Epoch 4/5\n",
      "40000/40000 [==============================] - 104s 3ms/step - loss: 0.1489 - accuracy: 0.9484 - val_loss: 0.7592 - val_accuracy: 0.7996\n",
      "Epoch 5/5\n",
      "40000/40000 [==============================] - 104s 3ms/step - loss: 0.1476 - accuracy: 0.9494 - val_loss: 0.7800 - val_accuracy: 0.7920\n",
      "Save model to disk\n",
      "Loading Model is success, Keep training Model\n",
      "Train on 40000 samples, validate on 10000 samples\n",
      "Epoch 1/5\n",
      "40000/40000 [==============================] - 104s 3ms/step - loss: 0.1427 - accuracy: 0.9510 - val_loss: 0.7719 - val_accuracy: 0.7868\n",
      "Epoch 2/5\n",
      "40000/40000 [==============================] - 104s 3ms/step - loss: 0.1382 - accuracy: 0.9535 - val_loss: 0.8233 - val_accuracy: 0.7888\n",
      "Epoch 3/5\n",
      "40000/40000 [==============================] - 104s 3ms/step - loss: 0.1452 - accuracy: 0.9488 - val_loss: 0.7677 - val_accuracy: 0.7952\n",
      "Epoch 4/5\n",
      "40000/40000 [==============================] - 104s 3ms/step - loss: 0.1409 - accuracy: 0.9509 - val_loss: 0.7920 - val_accuracy: 0.7891\n",
      "Epoch 5/5\n",
      "40000/40000 [==============================] - 104s 3ms/step - loss: 0.1406 - accuracy: 0.9521 - val_loss: 0.7763 - val_accuracy: 0.7860\n",
      "Save model to disk\n",
      "Loading Model is success, Keep training Model\n",
      "Train on 40000 samples, validate on 10000 samples\n",
      "Epoch 1/5\n",
      "40000/40000 [==============================] - 104s 3ms/step - loss: 0.1434 - accuracy: 0.9509 - val_loss: 0.7976 - val_accuracy: 0.7916\n",
      "Epoch 2/5\n",
      "40000/40000 [==============================] - 104s 3ms/step - loss: 0.1336 - accuracy: 0.9536 - val_loss: 0.8102 - val_accuracy: 0.7915\n",
      "Epoch 3/5\n",
      "40000/40000 [==============================] - 104s 3ms/step - loss: 0.1364 - accuracy: 0.9535 - val_loss: 0.7718 - val_accuracy: 0.7902\n",
      "Epoch 4/5\n"
     ]
    },
    {
     "name": "stdout",
     "output_type": "stream",
     "text": [
      "40000/40000 [==============================] - 104s 3ms/step - loss: 0.1272 - accuracy: 0.9574 - val_loss: 0.8069 - val_accuracy: 0.7860\n",
      "Epoch 5/5\n",
      "40000/40000 [==============================] - 104s 3ms/step - loss: 0.1431 - accuracy: 0.9522 - val_loss: 0.8067 - val_accuracy: 0.7867\n",
      "Save model to disk\n"
     ]
    }
   ],
   "source": [
    "for i in range(10):\n",
    "    try:\n",
    "        model.load_weights(\"SaveModel/cifarCnnModel.h5\")\n",
    "        print(\"Loading Model is success, Keep training Model\")\n",
    "    except:\n",
    "        print(\"Loading Model is failure, train new Model\")\n",
    "    train_history = model.fit(x_img_train_normalize,\n",
    "                              y_label_train_OneHot,\n",
    "                              validation_split = 0.2,\n",
    "                              epochs = 5,\n",
    "                              batch_size = 300,\n",
    "                              verbose = 1)\n",
    "    model.save_weights(\"SaveModel/cifarCnnModel.h5\")\n",
    "    print(\"Save model to disk\")"
   ]
  },
  {
   "cell_type": "code",
   "execution_count": null,
   "metadata": {},
   "outputs": [],
   "source": []
  }
 ],
 "metadata": {
  "kernelspec": {
   "display_name": "Python 3",
   "language": "python",
   "name": "python3"
  },
  "language_info": {
   "codemirror_mode": {
    "name": "ipython",
    "version": 3
   },
   "file_extension": ".py",
   "mimetype": "text/x-python",
   "name": "python",
   "nbconvert_exporter": "python",
   "pygments_lexer": "ipython3",
   "version": "3.7.5"
  },
  "varInspector": {
   "cols": {
    "lenName": 16,
    "lenType": 16,
    "lenVar": 40
   },
   "kernels_config": {
    "python": {
     "delete_cmd_postfix": "",
     "delete_cmd_prefix": "del ",
     "library": "var_list.py",
     "varRefreshCmd": "print(var_dic_list())"
    },
    "r": {
     "delete_cmd_postfix": ") ",
     "delete_cmd_prefix": "rm(",
     "library": "var_list.r",
     "varRefreshCmd": "cat(var_dic_list()) "
    }
   },
   "types_to_exclude": [
    "module",
    "function",
    "builtin_function_or_method",
    "instance",
    "_Feature"
   ],
   "window_display": false
  }
 },
 "nbformat": 4,
 "nbformat_minor": 2
}
