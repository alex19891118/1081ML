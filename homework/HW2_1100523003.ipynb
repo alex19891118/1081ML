{
 "cells": [
  {
   "cell_type": "markdown",
   "metadata": {},
   "source": [
    "# Homework2"
   ]
  },
  {
   "cell_type": "markdown",
   "metadata": {},
   "source": [
    "1.利用使用者所輸入的球體半徑來計算其體積(V)及表面積(A)：V = 4/3πr3 , A = 4πr2"
   ]
  },
  {
   "cell_type": "code",
   "execution_count": null,
   "metadata": {},
   "outputs": [],
   "source": []
  },
  {
   "cell_type": "markdown",
   "metadata": {},
   "source": [
    "2.工人欲粉刷某個高度的牆壁，所需使用梯子的長度為何？由使用者輸入高度及梯子與地面的角度。"
   ]
  },
  {
   "cell_type": "code",
   "execution_count": null,
   "metadata": {},
   "outputs": [],
   "source": []
  },
  {
   "cell_type": "markdown",
   "metadata": {},
   "source": [
    "3.π 的近似值可以如此計算：4/1 – 4/3 + 4/5 – 4/7 + 4/9 – 4/11 + ...，令使用者輸入要計算幾個項目，然後計算 π 的近似值。"
   ]
  },
  {
   "cell_type": "code",
   "execution_count": null,
   "metadata": {},
   "outputs": [],
   "source": []
  },
  {
   "cell_type": "markdown",
   "metadata": {},
   "source": [
    "4.將 avg2.py 程式改為計算 3 個分數的平均值。"
   ]
  },
  {
   "cell_type": "code",
   "execution_count": null,
   "metadata": {},
   "outputs": [],
   "source": []
  },
  {
   "cell_type": "markdown",
   "metadata": {},
   "source": [
    "5.將 convert.py 程式改為利用 for 迴圈計算 5 次度數轉換。"
   ]
  },
  {
   "cell_type": "code",
   "execution_count": null,
   "metadata": {},
   "outputs": [],
   "source": []
  },
  {
   "cell_type": "markdown",
   "metadata": {},
   "source": [
    "6.將 futval.py 程式改為依照使用者指定年限來計算未來價值。"
   ]
  },
  {
   "cell_type": "code",
   "execution_count": null,
   "metadata": {},
   "outputs": [],
   "source": []
  },
  {
   "cell_type": "markdown",
   "metadata": {},
   "source": [
    "7.撰寫程式計算兩個正整數的最大公因數(Greatest common divisor, GCD)。\n",
    "假設 g 是兩個正整數 n 及 m 的最大公因數，因此 n 及 m 都是g 的倍數。\n",
    "歐幾里德(Euclid)依據中國餘數定理(Chinese Remainder Theorem)提出了\n",
    "計算 GCD 的簡單演算法 g = GCD(n, m)，n > m：主要概念為從 n、m 開始，重複計算一序列的餘數直到最後餘數為0。\n",
    "例如：n = 80,844, m = 25,320，g = GCD(80844, 25320) = 12：\n",
    "\n",
    "80,844 mod 25,320 = 4,844\n",
    "25,320 mod 4,844 = 900\n",
    "4,844 mod 900 = 384\n",
    "900 mod 384 = 132\n",
    "384 mod 132 = 120\n",
    "132 mod 120 = 12\n",
    "120 mod 12 = 0"
   ]
  },
  {
   "cell_type": "code",
   "execution_count": null,
   "metadata": {},
   "outputs": [],
   "source": []
  },
  {
   "cell_type": "markdown",
   "metadata": {},
   "source": [
    "8.寫一個互動式程式，讓使用者能夠輸入數值計算表示式，然後印出最後計算值。\n",
    "加入一個 for 迴圈讓使用者能一直輸入表示式。程式如何結束？當使用者輸入錯誤表示式時，讓程式當掉。"
   ]
  },
  {
   "cell_type": "code",
   "execution_count": null,
   "metadata": {},
   "outputs": [],
   "source": []
  },
  {
   "cell_type": "markdown",
   "metadata": {},
   "source": [
    "9.許多老師將學生成績以等級來記錄：90~100：A，80~89：B，70~79：C，60~69：D，0~59：F。請寫程式讓使用者輸入一個分數，然後程式印出其等級。"
   ]
  },
  {
   "cell_type": "code",
   "execution_count": 3,
   "metadata": {},
   "outputs": [
    {
     "name": "stdout",
     "output_type": "stream",
     "text": [
      "Please input your score : 90\n",
      "A\n"
     ]
    }
   ],
   "source": [
    "def level():\n",
    "    score=eval(input(\"Please input your score : \"))\n",
    "    if score>=90:\n",
    "        print(\"A\")\n",
    "    elif score <90 and score >=80:\n",
    "        print(\"B\")\n",
    "    elif score <80 and score >=70:\n",
    "        print(\"C\")\n",
    "    elif score <70 and score >=60:\n",
    "        print(\"D\")\n",
    "    else:\n",
    "        print(\"F\")\n",
    "level()"
   ]
  },
  {
   "cell_type": "markdown",
   "metadata": {},
   "source": [
    "10.承上題，程式讀取一個檔案，檔案中每行都是一個 0~100 的分數，將每行分數轉為等級後，產生一個輸出等級檔案。"
   ]
  },
  {
   "cell_type": "code",
   "execution_count": null,
   "metadata": {},
   "outputs": [],
   "source": []
  },
  {
   "cell_type": "markdown",
   "metadata": {},
   "source": [
    "11.首字縮寫字(Acronym)是將許多字的第一個字母取出並改為大寫後所組成的字，例如 RAM 是\"random access memory\"的縮寫字。\n",
    "請撰寫程式讓使用者輸入一組字，然後印出首字縮寫字。"
   ]
  },
  {
   "cell_type": "code",
   "execution_count": null,
   "metadata": {},
   "outputs": [],
   "source": []
  },
  {
   "cell_type": "markdown",
   "metadata": {},
   "source": [
    "12.許多命理學家宣稱他們可以藉由一個人的生日決定一個人的人格特質，人格特質數字是由生日的數字持續相加而來，\n",
    "例如：1976 年 11月 25 日，人格特質數字為 1976 + 25 + 11 = 2012 = 2 + 0 + 1 + 2 = 直到剩下一個個位數字。\n",
    "請撰寫程式，使用者輸入其生日(格式：mm/dd/yyyy)，程式輸出其數值。(http://www.starlightnumerology.com/numbertable.htm)"
   ]
  },
  {
   "cell_type": "code",
   "execution_count": null,
   "metadata": {},
   "outputs": [],
   "source": []
  },
  {
   "cell_type": "markdown",
   "metadata": {},
   "source": [
    "13.輸入若干n個數字，輸出指定第k大的數字。如果k=0就結束程式。\n",
    "      Sample input: 6 8 15 29 35 47 77 3 2 4 1 0\n",
    "      Sample output: \n",
    "    第3大的數字是 35\n",
    "    第2大的數字是 47\n",
    "    第4大的數字是 29\n",
    "    第1大的數字是 77"
   ]
  },
  {
   "cell_type": "code",
   "execution_count": null,
   "metadata": {},
   "outputs": [],
   "source": []
  },
  {
   "cell_type": "markdown",
   "metadata": {},
   "source": [
    "14.設計一個薪資試算程式，要求使用者輸入月薪為何？ 以及工作年數為何？並結算該年之中可以獲得多少薪資？以及平均每日賺得多少薪資？"
   ]
  },
  {
   "cell_type": "code",
   "execution_count": 28,
   "metadata": {},
   "outputs": [
    {
     "name": "stdout",
     "output_type": "stream",
     "text": [
      "Input your monthly salart :30000\n",
      "Input your working year :2\n"
     ]
    }
   ],
   "source": [
    "def salary():\n",
    "    monthly=eval(input(\"Input your monthly salart :\" ))\n",
    "    year=eval(input(\"Input your working year :\" ))\n",
    "    total=monthly * year\n",
    "    print = total\n",
    "salary()"
   ]
  },
  {
   "cell_type": "markdown",
   "metadata": {},
   "source": [
    "15.使用 range() 的方式，設計九九乘法表，將『數字1』到『數字81』print 出來 。"
   ]
  },
  {
   "cell_type": "code",
   "execution_count": 26,
   "metadata": {},
   "outputs": [
    {
     "name": "stdout",
     "output_type": "stream",
     "text": [
      "1X1=1\n",
      "1X2=2\n",
      "1X3=3\n",
      "1X4=4\n",
      "1X5=5\n",
      "1X6=6\n",
      "1X7=7\n",
      "1X8=8\n",
      "1X9=9\n",
      "\n",
      "2X1=2\n",
      "2X2=4\n",
      "2X3=6\n",
      "2X4=8\n",
      "2X5=10\n",
      "2X6=12\n",
      "2X7=14\n",
      "2X8=16\n",
      "2X9=18\n",
      "\n",
      "3X1=3\n",
      "3X2=6\n",
      "3X3=9\n",
      "3X4=12\n",
      "3X5=15\n",
      "3X6=18\n",
      "3X7=21\n",
      "3X8=24\n",
      "3X9=27\n",
      "\n",
      "4X1=4\n",
      "4X2=8\n",
      "4X3=12\n",
      "4X4=16\n",
      "4X5=20\n",
      "4X6=24\n",
      "4X7=28\n",
      "4X8=32\n",
      "4X9=36\n",
      "\n",
      "5X1=5\n",
      "5X2=10\n",
      "5X3=15\n",
      "5X4=20\n",
      "5X5=25\n",
      "5X6=30\n",
      "5X7=35\n",
      "5X8=40\n",
      "5X9=45\n",
      "\n",
      "6X1=6\n",
      "6X2=12\n",
      "6X3=18\n",
      "6X4=24\n",
      "6X5=30\n",
      "6X6=36\n",
      "6X7=42\n",
      "6X8=48\n",
      "6X9=54\n",
      "\n",
      "7X1=7\n",
      "7X2=14\n",
      "7X3=21\n",
      "7X4=28\n",
      "7X5=35\n",
      "7X6=42\n",
      "7X7=49\n",
      "7X8=56\n",
      "7X9=63\n",
      "\n",
      "8X1=8\n",
      "8X2=16\n",
      "8X3=24\n",
      "8X4=32\n",
      "8X5=40\n",
      "8X6=48\n",
      "8X7=56\n",
      "8X8=64\n",
      "8X9=72\n",
      "\n",
      "9X1=9\n",
      "9X2=18\n",
      "9X3=27\n",
      "9X4=36\n",
      "9X5=45\n",
      "9X6=54\n",
      "9X7=63\n",
      "9X8=72\n",
      "9X9=81\n",
      "\n"
     ]
    }
   ],
   "source": [
    "def multiplication():\n",
    "    for i in range(1,10):\n",
    "        for j in range(1,10):\n",
    "            print (str(i) + \"X\" + str(j) + \"=\" + str(i*j))\n",
    "        print(\"\")\n",
    "        \n",
    "multiplication()"
   ]
  }
 ],
 "metadata": {
  "kernelspec": {
   "display_name": "Python 3",
   "language": "python",
   "name": "python3"
  },
  "language_info": {
   "codemirror_mode": {
    "name": "ipython",
    "version": 3
   },
   "file_extension": ".py",
   "mimetype": "text/x-python",
   "name": "python",
   "nbconvert_exporter": "python",
   "pygments_lexer": "ipython3",
   "version": "3.7.3"
  }
 },
 "nbformat": 4,
 "nbformat_minor": 2
}
