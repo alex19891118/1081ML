{
 "cells": [
  {
   "cell_type": "markdown",
   "metadata": {},
   "source": [
    "# Homework2"
   ]
  },
  {
   "cell_type": "markdown",
   "metadata": {},
   "source": [
    "1.利用使用者所輸入的球體半徑來計算其體積(V)及表面積(A)：V = 4/3πr3 , A = 4πr2"
   ]
  },
  {
   "cell_type": "code",
   "execution_count": 1,
   "metadata": {},
   "outputs": [
    {
     "name": "stdout",
     "output_type": "stream",
     "text": [
      "Input radius : 10\n",
      "Volume of a sphere : 4188.790204786391\n",
      "Surface area of a sphere : 1256.6370614359173\n"
     ]
    }
   ],
   "source": [
    "import math\n",
    "def sphere():\n",
    "    radius = eval(input(\"Input radius : \"))\n",
    "    volume = 4 / 3 * math.pi * pow(radius,3)\n",
    "    area = 4 * math.pi * pow(radius,2)\n",
    "    print(\"Volume of a sphere :\", volume)\n",
    "    print(\"Surface area of a sphere :\", area)\n",
    "sphere()"
   ]
  },
  {
   "cell_type": "markdown",
   "metadata": {},
   "source": [
    "2.工人欲粉刷某個高度的牆壁，所需使用梯子的長度為何？由使用者輸入高度及梯子與地面的角度。"
   ]
  },
  {
   "cell_type": "code",
   "execution_count": 1,
   "metadata": {},
   "outputs": [
    {
     "name": "stdout",
     "output_type": "stream",
     "text": [
      "Input height value : 18.8\n",
      "Input angle of ladder and ground : 39\n",
      "29.873495706436092\n"
     ]
    }
   ],
   "source": [
    "import math\n",
    "def ladder():\n",
    "    height = eval(input(\"Input height value : \"))\n",
    "    deg = eval(input(\"Input angle of ladder and ground : \"))\n",
    "    angle = math.pi / 180 * deg\n",
    "    ladder_length = height / math.sin(angle)\n",
    "    print(ladder_length)\n",
    "ladder()\n",
    "\n",
    "#reference website 計算弧度 https://zh-yue.wikipedia.org/wiki/%E5%BC%A7%E5%BA%A6\n",
    "#reference website 三角函數 https://www.shuxuele.com/algebra/trig-inverse-sin-cos-tan.html"
   ]
  },
  {
   "cell_type": "markdown",
   "metadata": {},
   "source": [
    "3.π 的近似值可以如此計算：4/1 – 4/3 + 4/5 – 4/7 + 4/9 – 4/11 + ...，令使用者輸入要計算幾個項目，然後計算 π 的近似值。"
   ]
  },
  {
   "cell_type": "code",
   "execution_count": null,
   "metadata": {},
   "outputs": [],
   "source": []
  },
  {
   "cell_type": "markdown",
   "metadata": {},
   "source": [
    "4.將 avg2.py 程式改為計算 3 個分數的平均值。"
   ]
  },
  {
   "cell_type": "code",
   "execution_count": 13,
   "metadata": {},
   "outputs": [
    {
     "name": "stdout",
     "output_type": "stream",
     "text": [
      "This program computes the average of three exam scores.\n",
      "Enter three scores separated byu a comma : 50,66,22\n",
      "The average of the scores is : 46.0\n"
     ]
    }
   ],
   "source": [
    "def avg3_1():\n",
    "    print(\"This program computes the average of three exam scores.\")\n",
    "    score1, score2, score3 = eval(input(\"Enter three scores separated byu a comma : \"))\n",
    "    average = (score1 + score2 + score3) / 3\n",
    "    print(\"The average of the scores is :\", average)\n",
    "avg3_1()"
   ]
  },
  {
   "cell_type": "code",
   "execution_count": 12,
   "metadata": {},
   "outputs": [
    {
     "name": "stdout",
     "output_type": "stream",
     "text": [
      "This program computes the average of three exam scores.\n",
      "Enter three scores separated byu a comma : 50,66,22\n",
      "The average of the scores is : 46.0\n"
     ]
    }
   ],
   "source": [
    "#numpy版\n",
    "import numpy\n",
    "def avg3_2():\n",
    "    print(\"This program computes the average of three exam scores.\")\n",
    "    score1, score2, score3 = eval(input(\"Enter three scores separated byu a comma : \"))\n",
    "    average = [score1 , score2 , score3]\n",
    "    print(\"The average of the scores is :\", numpy.mean(average))\n",
    "avg3_2()"
   ]
  },
  {
   "cell_type": "markdown",
   "metadata": {},
   "source": [
    "5.將 convert.py 程式改為利用 for 迴圈計算 5 次度數轉換。"
   ]
  },
  {
   "cell_type": "code",
   "execution_count": 1,
   "metadata": {},
   "outputs": [
    {
     "name": "stdout",
     "output_type": "stream",
     "text": [
      "Enter the Celsius temperature : 50\n",
      "1\n",
      "The temperature is 122.0 degree Fahrenheit.\n",
      "Enter the Celsius temperature : 23\n",
      "2\n",
      "The temperature is 73.4 degree Fahrenheit.\n",
      "Enter the Celsius temperature : 47\n",
      "3\n",
      "The temperature is 116.60000000000001 degree Fahrenheit.\n",
      "Enter the Celsius temperature : 33\n",
      "4\n",
      "The temperature is 91.4 degree Fahrenheit.\n",
      "Enter the Celsius temperature : 87\n",
      "5\n",
      "The temperature is 188.6 degree Fahrenheit.\n"
     ]
    }
   ],
   "source": [
    "def convert():\n",
    "    for i in range(5):\n",
    "        celsius = eval(input(\"Enter the Celsius temperature : \"))\n",
    "        fahrenheit = 9 / 5 * celsius + 32\n",
    "        print(i+1)\n",
    "        print(\"The temperature is\", fahrenheit, \"degree Fahrenheit.\")\n",
    "convert()"
   ]
  },
  {
   "cell_type": "markdown",
   "metadata": {},
   "source": [
    "6.將 futval.py 程式改為依照使用者指定年限來計算未來價值。"
   ]
  },
  {
   "cell_type": "code",
   "execution_count": 5,
   "metadata": {},
   "outputs": [
    {
     "name": "stdout",
     "output_type": "stream",
     "text": [
      "This program caluculates the future value\n",
      "of a year investment.\n",
      "Enter the initial principal : 100\n",
      "Enter the annual interest rate : 0.5\n",
      "Enter the year want to calculate : 8\n",
      "The value in 10 years is : 2562.890625\n"
     ]
    }
   ],
   "source": [
    "def futval():\n",
    "    print(\"This program caluculates the future value\")\n",
    "    print(\"of a year investment.\")\n",
    "    principal = eval(input(\"Enter the initial principal : \"))\n",
    "    apr = eval(input(\"Enter the annual interest rate : \"))\n",
    "    year = eval(input(\"Enter the year want to calculate : \"))\n",
    "    for i in range(year):\n",
    "        principal = principal * (1 + apr)\n",
    "    print(\"The value in 10 years is :\", principal)\n",
    "    \n",
    "futval()"
   ]
  },
  {
   "cell_type": "markdown",
   "metadata": {},
   "source": [
    "7.撰寫程式計算兩個正整數的最大公因數(Greatest common divisor, GCD)。\n",
    "假設 g 是兩個正整數 n 及 m 的最大公因數，因此 n 及 m 都是g 的倍數。\n",
    "歐幾里德(Euclid)依據中國餘數定理(Chinese Remainder Theorem)提出了\n",
    "計算 GCD 的簡單演算法 g = GCD(n, m)，n > m：主要概念為從 n、m 開始，重複計算一序列的餘數直到最後餘數為0。\n",
    "例如：n = 80,844, m = 25,320，g = GCD(80844, 25320) = 12：\n",
    "\n",
    "80,844 mod 25,320 = 4,844\n",
    "25,320 mod 4,844 = 900\n",
    "4,844 mod 900 = 384\n",
    "900 mod 384 = 132\n",
    "384 mod 132 = 120\n",
    "132 mod 120 = 12\n",
    "120 mod 12 = 0"
   ]
  },
  {
   "cell_type": "code",
   "execution_count": 7,
   "metadata": {},
   "outputs": [
    {
     "name": "stdout",
     "output_type": "stream",
     "text": [
      "Input number 1 : 80844\n",
      "Input number 2 : 25320\n",
      "GCD 80844 and 25320 = 12\n"
     ]
    }
   ],
   "source": [
    "#math版\n",
    "import math\n",
    "def GCD_1():\n",
    "    n=eval(input(\"Input number 1 : \"))\n",
    "    m=eval(input(\"Input number 2 : \"))\n",
    "    print(\"GCD\", n, \"and\", m, \"=\", math.gcd(n,m))\n",
    "GCD_1()"
   ]
  },
  {
   "cell_type": "code",
   "execution_count": 33,
   "metadata": {},
   "outputs": [
    {
     "name": "stdout",
     "output_type": "stream",
     "text": [
      "Input number 1 : 80844\n",
      "Input number 2 : 25320\n",
      "GCD 80844 and 25320 = 12\n"
     ]
    }
   ],
   "source": [
    "#遞迴版\n",
    "def GCD_2(n,m):\n",
    "    if m == 0:\n",
    "        return n\n",
    "    else:\n",
    "        return GCD_2(m, n%m)\n",
    "\n",
    "n=eval(input(\"Input number 1 : \"))\n",
    "m=eval(input(\"Input number 2 : \"))\n",
    "print(\"GCD\", n, \"and\", m, \"=\", GCD_2(n, m))"
   ]
  },
  {
   "cell_type": "markdown",
   "metadata": {},
   "source": [
    "8.寫一個互動式程式，讓使用者能夠輸入數值計算表示式，然後印出最後計算值。\n",
    "加入一個 for 迴圈讓使用者能一直輸入表示式。程式如何結束？當使用者輸入錯誤表示式時，讓程式當掉。"
   ]
  },
  {
   "cell_type": "code",
   "execution_count": null,
   "metadata": {},
   "outputs": [],
   "source": []
  },
  {
   "cell_type": "markdown",
   "metadata": {},
   "source": [
    "9.許多老師將學生成績以等級來記錄：90~100：A，80~89：B，70~79：C，60~69：D，0~59：F。請寫程式讓使用者輸入一個分數，然後程式印出其等級。"
   ]
  },
  {
   "cell_type": "code",
   "execution_count": 59,
   "metadata": {},
   "outputs": [
    {
     "name": "stdout",
     "output_type": "stream",
     "text": [
      "Please input your score : 102\n",
      "Please input correct score 0 ~ 100\n"
     ]
    }
   ],
   "source": [
    "def level():\n",
    "    score=eval(input(\"Please input your score : \"))\n",
    "    if score >100 or score <0:\n",
    "        print(\"Please input correct score 0 ~ 100\")\n",
    "    else:\n",
    "        if 100 >= score >=90:\n",
    "            print(\"A\")\n",
    "        elif 90 > score >=80:\n",
    "            print(\"B\")\n",
    "        elif 80 > score >=70:\n",
    "            print(\"C\")\n",
    "        elif 70 > score >=60:\n",
    "            print(\"D\")\n",
    "        else:\n",
    "            print(\"F\")    \n",
    "level()"
   ]
  },
  {
   "cell_type": "markdown",
   "metadata": {},
   "source": [
    "10.承上題，程式讀取一個檔案，檔案中每行都是一個 0~100 的分數，將每行分數轉為等級後，產生一個輸出等級檔案。"
   ]
  },
  {
   "cell_type": "code",
   "execution_count": 3,
   "metadata": {},
   "outputs": [
    {
     "name": "stdout",
     "output_type": "stream",
     "text": [
      "100\n",
      "80\n",
      "65\n",
      "23\n",
      "5\n",
      "10\n",
      "8\n",
      "77\n",
      "65"
     ]
    }
   ],
   "source": [
    "def level_file():\n",
    "    infile = open(\"level_score.txt\", \"r\") \n",
    "    for score in infile.readlines():\n",
    "            print(score, end=\"\")\n",
    "    infile.close()\n",
    "\n",
    "\n",
    "    \n",
    "    \n",
    "\n",
    "    \n",
    "level_file()"
   ]
  },
  {
   "cell_type": "markdown",
   "metadata": {},
   "source": [
    "11.首字縮寫字(Acronym)是將許多字的第一個字母取出並改為大寫後所組成的字，例如 RAM 是\"random access memory\"的縮寫字。\n",
    "請撰寫程式讓使用者輸入一組字，然後印出首字縮寫字。"
   ]
  },
  {
   "cell_type": "code",
   "execution_count": 5,
   "metadata": {},
   "outputs": [
    {
     "name": "stdout",
     "output_type": "stream",
     "text": [
      "Input the Text: dsfd sf dsfs \n",
      "The acronym for your phrase is  DSD.\n"
     ]
    }
   ],
   "source": [
    "def acronym():\n",
    "\n",
    "    text = input(\"Input the Text: \")\n",
    "    phrase_split = text.split()\n",
    "    acronym = \"\"\n",
    "    for i in phrase_split:\n",
    "        acronym = acronym + i[0].upper()\n",
    "    print(\"Output acronym is \",acronym + \".\")\n",
    "\n",
    "acronym()"
   ]
  },
  {
   "cell_type": "markdown",
   "metadata": {},
   "source": [
    "12.許多命理學家宣稱他們可以藉由一個人的生日決定一個人的人格特質，人格特質數字是由生日的數字持續相加而來，\n",
    "例如：1976 年 11月 25 日，人格特質數字為 1976 + 25 + 11 = 2012 = 2 + 0 + 1 + 2 = 直到剩下一個個位數字。\n",
    "請撰寫程式，使用者輸入其生日(格式：mm/dd/yyyy)，程式輸出其數值。(http://www.starlightnumerology.com/numbertable.htm)"
   ]
  },
  {
   "cell_type": "code",
   "execution_count": null,
   "metadata": {},
   "outputs": [],
   "source": [
    "def birthday():\n",
    "    \n",
    "    \n",
    "\n"
   ]
  },
  {
   "cell_type": "markdown",
   "metadata": {},
   "source": [
    "13.輸入若干n個數字，輸出指定第k大的數字。如果k=0就結束程式。\n",
    "      Sample input: 6 8 15 29 35 47 77 3 2 4 1 0\n",
    "      Sample output: \n",
    "    第3大的數字是 35\n",
    "    第2大的數字是 47\n",
    "    第4大的數字是 29\n",
    "    第1大的數字是 77"
   ]
  },
  {
   "cell_type": "code",
   "execution_count": null,
   "metadata": {},
   "outputs": [],
   "source": []
  },
  {
   "cell_type": "markdown",
   "metadata": {},
   "source": [
    "14.設計一個薪資試算程式，要求使用者輸入月薪為何？ 以及工作年數為何？並結算該年之中可以獲得多少薪資？以及平均每日賺得多少薪資？"
   ]
  },
  {
   "cell_type": "code",
   "execution_count": 3,
   "metadata": {},
   "outputs": [
    {
     "name": "stdout",
     "output_type": "stream",
     "text": [
      "Input your monthly salart :30000\n",
      "Input your working year :5\n",
      "150000\n"
     ]
    }
   ],
   "source": [
    "def salary():\n",
    "    monthly=eval(input(\"Input your monthly salart :\" ))\n",
    "    year=eval(input(\"Input your working year :\" ))\n",
    "    total=monthly * year\n",
    "    print(total)\n",
    "salary()"
   ]
  },
  {
   "cell_type": "markdown",
   "metadata": {},
   "source": [
    "15.使用 range() 的方式，設計九九乘法表，將『數字1』到『數字81』print 出來 。"
   ]
  },
  {
   "cell_type": "code",
   "execution_count": 9,
   "metadata": {},
   "outputs": [
    {
     "name": "stdout",
     "output_type": "stream",
     "text": [
      "1 X 1 = 1\n",
      "1 X 2 = 2\n",
      "1 X 3 = 3\n",
      "1 X 4 = 4\n",
      "1 X 5 = 5\n",
      "1 X 6 = 6\n",
      "1 X 7 = 7\n",
      "1 X 8 = 8\n",
      "1 X 9 = 9\n",
      "\n",
      "2 X 1 = 2\n",
      "2 X 2 = 4\n",
      "2 X 3 = 6\n",
      "2 X 4 = 8\n",
      "2 X 5 = 10\n",
      "2 X 6 = 12\n",
      "2 X 7 = 14\n",
      "2 X 8 = 16\n",
      "2 X 9 = 18\n",
      "\n",
      "3 X 1 = 3\n",
      "3 X 2 = 6\n",
      "3 X 3 = 9\n",
      "3 X 4 = 12\n",
      "3 X 5 = 15\n",
      "3 X 6 = 18\n",
      "3 X 7 = 21\n",
      "3 X 8 = 24\n",
      "3 X 9 = 27\n",
      "\n",
      "4 X 1 = 4\n",
      "4 X 2 = 8\n",
      "4 X 3 = 12\n",
      "4 X 4 = 16\n",
      "4 X 5 = 20\n",
      "4 X 6 = 24\n",
      "4 X 7 = 28\n",
      "4 X 8 = 32\n",
      "4 X 9 = 36\n",
      "\n",
      "5 X 1 = 5\n",
      "5 X 2 = 10\n",
      "5 X 3 = 15\n",
      "5 X 4 = 20\n",
      "5 X 5 = 25\n",
      "5 X 6 = 30\n",
      "5 X 7 = 35\n",
      "5 X 8 = 40\n",
      "5 X 9 = 45\n",
      "\n",
      "6 X 1 = 6\n",
      "6 X 2 = 12\n",
      "6 X 3 = 18\n",
      "6 X 4 = 24\n",
      "6 X 5 = 30\n",
      "6 X 6 = 36\n",
      "6 X 7 = 42\n",
      "6 X 8 = 48\n",
      "6 X 9 = 54\n",
      "\n",
      "7 X 1 = 7\n",
      "7 X 2 = 14\n",
      "7 X 3 = 21\n",
      "7 X 4 = 28\n",
      "7 X 5 = 35\n",
      "7 X 6 = 42\n",
      "7 X 7 = 49\n",
      "7 X 8 = 56\n",
      "7 X 9 = 63\n",
      "\n",
      "8 X 1 = 8\n",
      "8 X 2 = 16\n",
      "8 X 3 = 24\n",
      "8 X 4 = 32\n",
      "8 X 5 = 40\n",
      "8 X 6 = 48\n",
      "8 X 7 = 56\n",
      "8 X 8 = 64\n",
      "8 X 9 = 72\n",
      "\n",
      "9 X 1 = 9\n",
      "9 X 2 = 18\n",
      "9 X 3 = 27\n",
      "9 X 4 = 36\n",
      "9 X 5 = 45\n",
      "9 X 6 = 54\n",
      "9 X 7 = 63\n",
      "9 X 8 = 72\n",
      "9 X 9 = 81\n",
      "\n"
     ]
    }
   ],
   "source": [
    "def multiplication():\n",
    "    for i in range(1,10):\n",
    "        for j in range(1,10):\n",
    "            print (i, \"X\", j, \"=\", i*j)\n",
    "        print(\"\")\n",
    "        \n",
    "multiplication()"
   ]
  }
 ],
 "metadata": {
  "kernelspec": {
   "display_name": "Python 3",
   "language": "python",
   "name": "python3"
  },
  "language_info": {
   "codemirror_mode": {
    "name": "ipython",
    "version": 3
   },
   "file_extension": ".py",
   "mimetype": "text/x-python",
   "name": "python",
   "nbconvert_exporter": "python",
   "pygments_lexer": "ipython3",
   "version": "3.7.3"
  }
 },
 "nbformat": 4,
 "nbformat_minor": 2
}
